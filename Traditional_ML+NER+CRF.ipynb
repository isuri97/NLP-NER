{
  "nbformat": 4,
  "nbformat_minor": 0,
  "metadata": {
    "colab": {
      "name": "Traditional ML+NER+CRF.ipynb",
      "provenance": [],
      "authorship_tag": "ABX9TyNaLdIwKseV8bEBiT2BzF8n"
    },
    "kernelspec": {
      "name": "python3",
      "display_name": "Python 3"
    },
    "language_info": {
      "name": "python"
    },
    "accelerator": "GPU"
  },
  "cells": [
    {
      "cell_type": "markdown",
      "metadata": {
        "id": "h6zJ6TbAuZwV"
      },
      "source": [
        "**NER and CRF**"
      ]
    },
    {
      "cell_type": "code",
      "metadata": {
        "id": "5MFLKxTkugk2"
      },
      "source": [
        "# Libraries required for sample\n",
        "import pandas as pd\n",
        "import numpy as np\n",
        "from sklearn.feature_extraction import DictVectorizer\n",
        "from sklearn.feature_extraction.text import HashingVectorizer\n",
        "from sklearn.linear_model import Perceptron\n",
        "from sklearn.model_selection import train_test_split\n",
        "from sklearn.linear_model import SGDClassifier\n",
        "from sklearn.linear_model import PassiveAggressiveClassifier\n",
        "from sklearn.naive_bayes import MultinomialNB\n",
        "from sklearn.metrics import classification_report\n",
        "\n",
        "# !pip install sklearn-crfsuite\n",
        "\n",
        "# Libraries need to build CRF model\n",
        "import sklearn_crfsuite\n",
        "from sklearn_crfsuite import scorers\n",
        "from sklearn_crfsuite import metrics"
      ],
      "execution_count": 2,
      "outputs": []
    },
    {
      "cell_type": "code",
      "metadata": {
        "colab": {
          "base_uri": "https://localhost:8080/"
        },
        "id": "TzZTjdpAiCuW",
        "outputId": "a54c7aa8-6cb2-4c2c-a8e4-08a3193da790"
      },
      "source": [
        "# dataset can be downloaded from https://www.kaggle.com/abhinavwalia95/how-to-loading-and-fitting-dataset-to-scikit/data\n",
        "df = pd.read_csv('ner_dataset.csv', encoding = \"ISO-8859-1\")\n",
        "df = df[:100000]\n",
        "df.head()\n",
        "df = df.fillna(method='ffill')\n",
        "df['Sentence #'].nunique(), df.Word.nunique(), df.Tag.nunique()"
      ],
      "execution_count": 3,
      "outputs": [
        {
          "output_type": "execute_result",
          "data": {
            "text/plain": [
              "(4544, 10922, 17)"
            ]
          },
          "metadata": {},
          "execution_count": 3
        }
      ]
    },
    {
      "cell_type": "code",
      "metadata": {
        "colab": {
          "base_uri": "https://localhost:8080/",
          "height": 573
        },
        "id": "iAyo_R-jxKQN",
        "outputId": "7b541c34-0966-4380-f474-c70eca4c0916"
      },
      "source": [
        "df.isnull().sum()\n",
        "df = df.fillna(method='ffill')\n",
        "df['Sentence #'].nunique(), df.Word.nunique(), df.Tag.nunique()\n",
        "df.head()\n",
        "df.groupby('Tag').size().reset_index(name='counts')\n"
      ],
      "execution_count": 4,
      "outputs": [
        {
          "output_type": "execute_result",
          "data": {
            "text/html": [
              "<div>\n",
              "<style scoped>\n",
              "    .dataframe tbody tr th:only-of-type {\n",
              "        vertical-align: middle;\n",
              "    }\n",
              "\n",
              "    .dataframe tbody tr th {\n",
              "        vertical-align: top;\n",
              "    }\n",
              "\n",
              "    .dataframe thead th {\n",
              "        text-align: right;\n",
              "    }\n",
              "</style>\n",
              "<table border=\"1\" class=\"dataframe\">\n",
              "  <thead>\n",
              "    <tr style=\"text-align: right;\">\n",
              "      <th></th>\n",
              "      <th>Tag</th>\n",
              "      <th>counts</th>\n",
              "    </tr>\n",
              "  </thead>\n",
              "  <tbody>\n",
              "    <tr>\n",
              "      <th>0</th>\n",
              "      <td>B-art</td>\n",
              "      <td>75</td>\n",
              "    </tr>\n",
              "    <tr>\n",
              "      <th>1</th>\n",
              "      <td>B-eve</td>\n",
              "      <td>53</td>\n",
              "    </tr>\n",
              "    <tr>\n",
              "      <th>2</th>\n",
              "      <td>B-geo</td>\n",
              "      <td>3303</td>\n",
              "    </tr>\n",
              "    <tr>\n",
              "      <th>3</th>\n",
              "      <td>B-gpe</td>\n",
              "      <td>1740</td>\n",
              "    </tr>\n",
              "    <tr>\n",
              "      <th>4</th>\n",
              "      <td>B-nat</td>\n",
              "      <td>30</td>\n",
              "    </tr>\n",
              "    <tr>\n",
              "      <th>5</th>\n",
              "      <td>B-org</td>\n",
              "      <td>1876</td>\n",
              "    </tr>\n",
              "    <tr>\n",
              "      <th>6</th>\n",
              "      <td>B-per</td>\n",
              "      <td>1668</td>\n",
              "    </tr>\n",
              "    <tr>\n",
              "      <th>7</th>\n",
              "      <td>B-tim</td>\n",
              "      <td>1823</td>\n",
              "    </tr>\n",
              "    <tr>\n",
              "      <th>8</th>\n",
              "      <td>I-art</td>\n",
              "      <td>43</td>\n",
              "    </tr>\n",
              "    <tr>\n",
              "      <th>9</th>\n",
              "      <td>I-eve</td>\n",
              "      <td>47</td>\n",
              "    </tr>\n",
              "    <tr>\n",
              "      <th>10</th>\n",
              "      <td>I-geo</td>\n",
              "      <td>690</td>\n",
              "    </tr>\n",
              "    <tr>\n",
              "      <th>11</th>\n",
              "      <td>I-gpe</td>\n",
              "      <td>51</td>\n",
              "    </tr>\n",
              "    <tr>\n",
              "      <th>12</th>\n",
              "      <td>I-nat</td>\n",
              "      <td>11</td>\n",
              "    </tr>\n",
              "    <tr>\n",
              "      <th>13</th>\n",
              "      <td>I-org</td>\n",
              "      <td>1470</td>\n",
              "    </tr>\n",
              "    <tr>\n",
              "      <th>14</th>\n",
              "      <td>I-per</td>\n",
              "      <td>1846</td>\n",
              "    </tr>\n",
              "    <tr>\n",
              "      <th>15</th>\n",
              "      <td>I-tim</td>\n",
              "      <td>549</td>\n",
              "    </tr>\n",
              "    <tr>\n",
              "      <th>16</th>\n",
              "      <td>O</td>\n",
              "      <td>84725</td>\n",
              "    </tr>\n",
              "  </tbody>\n",
              "</table>\n",
              "</div>"
            ],
            "text/plain": [
              "      Tag  counts\n",
              "0   B-art      75\n",
              "1   B-eve      53\n",
              "2   B-geo    3303\n",
              "3   B-gpe    1740\n",
              "4   B-nat      30\n",
              "5   B-org    1876\n",
              "6   B-per    1668\n",
              "7   B-tim    1823\n",
              "8   I-art      43\n",
              "9   I-eve      47\n",
              "10  I-geo     690\n",
              "11  I-gpe      51\n",
              "12  I-nat      11\n",
              "13  I-org    1470\n",
              "14  I-per    1846\n",
              "15  I-tim     549\n",
              "16      O   84725"
            ]
          },
          "metadata": {},
          "execution_count": 4
        }
      ]
    },
    {
      "cell_type": "code",
      "metadata": {
        "colab": {
          "base_uri": "https://localhost:8080/"
        },
        "id": "VwacOzZv2erO",
        "outputId": "1addcf73-8a6a-47b8-fb7f-3101ac56111d"
      },
      "source": [
        "y = df.Tag.values\n",
        "classes = np.unique(y)\n",
        "classes = classes.tolist()\n",
        "classes\n",
        "new_classes = classes.copy()\n",
        "new_classes.pop()\n",
        "new_classes"
      ],
      "execution_count": 5,
      "outputs": [
        {
          "output_type": "execute_result",
          "data": {
            "text/plain": [
              "['B-art',\n",
              " 'B-eve',\n",
              " 'B-geo',\n",
              " 'B-gpe',\n",
              " 'B-nat',\n",
              " 'B-org',\n",
              " 'B-per',\n",
              " 'B-tim',\n",
              " 'I-art',\n",
              " 'I-eve',\n",
              " 'I-geo',\n",
              " 'I-gpe',\n",
              " 'I-nat',\n",
              " 'I-org',\n",
              " 'I-per',\n",
              " 'I-tim']"
            ]
          },
          "metadata": {},
          "execution_count": 5
        }
      ]
    },
    {
      "cell_type": "code",
      "metadata": {
        "id": "t3zkghE6z4o8"
      },
      "source": [
        "class SentenceGetter(object):\n",
        "    \n",
        "    def __init__(self, data):\n",
        "        self.n_sent = 1\n",
        "        self.data = data\n",
        "        self.empty = False\n",
        "        agg_func = lambda s: [(w, p, t) for w, p, t in zip(s['Word'].values.tolist(), \n",
        "                                                           s['POS'].values.tolist(), \n",
        "                                                           s['Tag'].values.tolist())]\n",
        "        self.grouped = self.data.groupby('Sentence #').apply(agg_func)\n",
        "        self.sentences = [s for s in self.grouped]\n",
        "        \n",
        "    def get_next(self):\n",
        "        try: \n",
        "            s = self.grouped['Sentence: {}'.format(self.n_sent)]\n",
        "            self.n_sent += 1\n",
        "            return s \n",
        "        except:\n",
        "            return None"
      ],
      "execution_count": 9,
      "outputs": []
    },
    {
      "cell_type": "code",
      "metadata": {
        "colab": {
          "base_uri": "https://localhost:8080/"
        },
        "id": "BYKOJNxSz4rs",
        "outputId": "50e1e296-127c-4cf9-c218-4b720da38d20"
      },
      "source": [
        "getter = SentenceGetter(df)\n",
        "sent = getter.get_next()\n",
        "print(sent)"
      ],
      "execution_count": 10,
      "outputs": [
        {
          "output_type": "stream",
          "name": "stdout",
          "text": [
            "[('Thousands', 'NNS', 'O'), ('of', 'IN', 'O'), ('demonstrators', 'NNS', 'O'), ('have', 'VBP', 'O'), ('marched', 'VBN', 'O'), ('through', 'IN', 'O'), ('London', 'NNP', 'B-geo'), ('to', 'TO', 'O'), ('protest', 'VB', 'O'), ('the', 'DT', 'O'), ('war', 'NN', 'O'), ('in', 'IN', 'O'), ('Iraq', 'NNP', 'B-geo'), ('and', 'CC', 'O'), ('demand', 'VB', 'O'), ('the', 'DT', 'O'), ('withdrawal', 'NN', 'O'), ('of', 'IN', 'O'), ('British', 'JJ', 'B-gpe'), ('troops', 'NNS', 'O'), ('from', 'IN', 'O'), ('that', 'DT', 'O'), ('country', 'NN', 'O'), ('.', '.', 'O')]\n"
          ]
        }
      ]
    },
    {
      "cell_type": "code",
      "metadata": {
        "id": "LyYjPgnnz4uZ"
      },
      "source": [
        "sentences = getter.sentences\n"
      ],
      "execution_count": 11,
      "outputs": []
    },
    {
      "cell_type": "code",
      "metadata": {
        "id": "VgGc5y_lz4xG"
      },
      "source": [
        "def word2features(sent, i):\n",
        "    word = sent[i][0]\n",
        "    postag = sent[i][1]\n",
        "    \n",
        "    features = {\n",
        "        'bias': 1.0, \n",
        "        'word.lower()': word.lower(), \n",
        "        'word[-3:]': word[-3:],\n",
        "        'word[-2:]': word[-2:],\n",
        "        'word.isupper()': word.isupper(),\n",
        "        'word.istitle()': word.istitle(),\n",
        "        'word.isdigit()': word.isdigit(),\n",
        "        'postag': postag,\n",
        "        'postag[:2]': postag[:2],\n",
        "    }\n",
        "    if i > 0:\n",
        "        word1 = sent[i-1][0]\n",
        "        postag1 = sent[i-1][1]\n",
        "        features.update({\n",
        "            '-1:word.lower()': word1.lower(),\n",
        "            '-1:word.istitle()': word1.istitle(),\n",
        "            '-1:word.isupper()': word1.isupper(),\n",
        "            '-1:postag': postag1,\n",
        "            '-1:postag[:2]': postag1[:2],\n",
        "        })\n",
        "    else:\n",
        "        features['BOS'] = True\n",
        "    if i < len(sent)-1:\n",
        "        word1 = sent[i+1][0]\n",
        "        postag1 = sent[i+1][1]\n",
        "        features.update({\n",
        "            '+1:word.lower()': word1.lower(),\n",
        "            '+1:word.istitle()': word1.istitle(),\n",
        "            '+1:word.isupper()': word1.isupper(),\n",
        "            '+1:postag': postag1,\n",
        "            '+1:postag[:2]': postag1[:2],\n",
        "        })\n",
        "    else:\n",
        "        features['EOS'] = True\n",
        "\n",
        "    return features\n",
        "\n",
        "def sent2features(sent):\n",
        "    return [word2features(sent, i) for i in range(len(sent))]\n",
        "\n",
        "def sent2labels(sent):\n",
        "    return [label for token, postag, label in sent]\n",
        "\n",
        "def sent2tokens(sent):\n",
        "    return [token for token, postag, label in sent]"
      ],
      "execution_count": 12,
      "outputs": []
    },
    {
      "cell_type": "code",
      "metadata": {
        "id": "itLIL1yt0w1m"
      },
      "source": [
        "X = [sent2features(s) for s in sentences]\n",
        "y = [sent2labels(s) for s in sentences]"
      ],
      "execution_count": 13,
      "outputs": []
    },
    {
      "cell_type": "code",
      "metadata": {
        "id": "FJXLkWVi0zHL"
      },
      "source": [
        "X_train, X_test, y_train, y_test = train_test_split(X, y, test_size=0.33, random_state=0)"
      ],
      "execution_count": 14,
      "outputs": []
    },
    {
      "cell_type": "code",
      "metadata": {
        "colab": {
          "base_uri": "https://localhost:8080/"
        },
        "id": "fUGPsjuH0zY-",
        "outputId": "c2c9fb86-705e-4cb9-d12c-15e0c6ec12ca"
      },
      "source": [
        "crf = sklearn_crfsuite.CRF(\n",
        "    algorithm='lbfgs',\n",
        "    c1=0.1,\n",
        "    c2=0.1,\n",
        "    max_iterations=100,\n",
        "    all_possible_transitions=True\n",
        ")\n",
        "crf.fit(X_train, y_train)"
      ],
      "execution_count": 15,
      "outputs": [
        {
          "output_type": "stream",
          "name": "stderr",
          "text": [
            "/usr/local/lib/python3.7/dist-packages/sklearn/base.py:197: FutureWarning: From version 0.24, get_params will raise an AttributeError if a parameter cannot be retrieved as an instance attribute. Previously it would return None.\n",
            "  FutureWarning)\n"
          ]
        },
        {
          "output_type": "execute_result",
          "data": {
            "text/plain": [
              "CRF(algorithm='lbfgs', all_possible_states=None, all_possible_transitions=True,\n",
              "    averaging=None, c=None, c1=0.1, c2=0.1, calibration_candidates=None,\n",
              "    calibration_eta=None, calibration_max_trials=None, calibration_rate=None,\n",
              "    calibration_samples=None, delta=None, epsilon=None, error_sensitive=None,\n",
              "    gamma=None, keep_tempfiles=None, linesearch=None, max_iterations=100,\n",
              "    max_linesearch=None, min_freq=None, model_filename=None, num_memories=None,\n",
              "    pa_type=None, period=None, trainer_cls=None, variance=None, verbose=False)"
            ]
          },
          "metadata": {},
          "execution_count": 15
        }
      ]
    },
    {
      "cell_type": "code",
      "metadata": {
        "colab": {
          "base_uri": "https://localhost:8080/"
        },
        "id": "ahtZhIcm0zwq",
        "outputId": "3072b7f1-4b44-4b92-a0d7-f1e9e55bd0c2"
      },
      "source": [
        "y_pred = crf.predict(X_test)\n",
        "metrics.flat_f1_score(y_test, y_pred, average='weighted', labels=new_classes)"
      ],
      "execution_count": 16,
      "outputs": [
        {
          "output_type": "execute_result",
          "data": {
            "text/plain": [
              "0.7842087494747214"
            ]
          },
          "metadata": {},
          "execution_count": 16
        }
      ]
    },
    {
      "cell_type": "code",
      "metadata": {
        "colab": {
          "base_uri": "https://localhost:8080/"
        },
        "id": "pBtIpBpDz40b",
        "outputId": "73cb9082-dde0-4cfb-b41d-5fd8b3ef22c9"
      },
      "source": [
        "print(metrics.flat_classification_report(y_test, y_pred, labels = new_classes))"
      ],
      "execution_count": 17,
      "outputs": [
        {
          "output_type": "stream",
          "name": "stdout",
          "text": [
            "              precision    recall  f1-score   support\n",
            "\n",
            "       B-art       1.00      0.03      0.07        29\n",
            "       B-eve       0.86      0.25      0.39        24\n",
            "       B-geo       0.75      0.88      0.81      1043\n",
            "       B-gpe       0.89      0.78      0.83       588\n",
            "       B-nat       0.67      0.20      0.31        10\n",
            "       B-org       0.75      0.64      0.69       649\n",
            "       B-per       0.81      0.81      0.81       546\n",
            "       B-tim       0.90      0.85      0.87       589\n",
            "       I-art       0.00      0.00      0.00         7\n",
            "       I-eve       0.57      0.22      0.32        18\n",
            "       I-geo       0.71      0.71      0.71       204\n",
            "       I-gpe       0.47      0.53      0.50        17\n",
            "       I-nat       1.00      0.50      0.67         2\n",
            "       I-org       0.78      0.73      0.76       545\n",
            "       I-per       0.80      0.90      0.85       574\n",
            "       I-tim       0.79      0.68      0.73       185\n",
            "\n",
            "   micro avg       0.80      0.78      0.79      5030\n",
            "   macro avg       0.73      0.54      0.58      5030\n",
            "weighted avg       0.80      0.78      0.78      5030\n",
            "\n"
          ]
        },
        {
          "output_type": "stream",
          "name": "stderr",
          "text": [
            "/usr/local/lib/python3.7/dist-packages/sklearn/metrics/_classification.py:1272: UndefinedMetricWarning: Precision and F-score are ill-defined and being set to 0.0 in labels with no predicted samples. Use `zero_division` parameter to control this behavior.\n",
            "  _warn_prf(average, modifier, msg_start, len(result))\n"
          ]
        }
      ]
    },
    {
      "cell_type": "code",
      "metadata": {
        "colab": {
          "base_uri": "https://localhost:8080/"
        },
        "id": "XpJlkehKxyrE",
        "outputId": "42c5ca49-33bd-443f-c80e-33fd9414d61c"
      },
      "source": [
        "import scipy.stats\n",
        "from sklearn.metrics import make_scorer\n",
        "from sklearn.model_selection import RandomizedSearchCV\n",
        "\n",
        "\n",
        "crf = sklearn_crfsuite.CRF(\n",
        "    algorithm='lbfgs',\n",
        "    max_iterations=100,\n",
        "    all_possible_transitions=True\n",
        ")\n",
        "params_space = {\n",
        "    'c1': scipy.stats.expon(scale=0.5),\n",
        "    'c2': scipy.stats.expon(scale=0.05),\n",
        "}\n",
        "\n",
        "# use the same metric for evaluation\n",
        "f1_scorer = make_scorer(metrics.flat_f1_score,\n",
        "                        average='weighted', labels=new_classes)\n",
        "\n",
        "# search\n",
        "rs = RandomizedSearchCV(crf, params_space,\n",
        "                        cv=3,\n",
        "                        verbose=1,\n",
        "                        n_jobs=-1,\n",
        "                        n_iter=50,\n",
        "                        scoring=f1_scorer)\n",
        "rs.fit(X_train, y_train)"
      ],
      "execution_count": 18,
      "outputs": [
        {
          "output_type": "stream",
          "name": "stdout",
          "text": [
            "Fitting 3 folds for each of 50 candidates, totalling 150 fits\n"
          ]
        },
        {
          "output_type": "stream",
          "name": "stderr",
          "text": [
            "/usr/local/lib/python3.7/dist-packages/sklearn/base.py:197: FutureWarning: From version 0.24, get_params will raise an AttributeError if a parameter cannot be retrieved as an instance attribute. Previously it would return None.\n",
            "  FutureWarning)\n",
            "[Parallel(n_jobs=-1)]: Using backend LokyBackend with 2 concurrent workers.\n",
            "[Parallel(n_jobs=-1)]: Done  46 tasks      | elapsed: 13.0min\n",
            "[Parallel(n_jobs=-1)]: Done 150 out of 150 | elapsed: 40.9min finished\n"
          ]
        },
        {
          "output_type": "execute_result",
          "data": {
            "text/plain": [
              "RandomizedSearchCV(cv=3, error_score=nan,\n",
              "                   estimator=CRF(algorithm='lbfgs', all_possible_states=None,\n",
              "                                 all_possible_transitions=True, averaging=None,\n",
              "                                 c=None, c1=None, c2=None,\n",
              "                                 calibration_candidates=None,\n",
              "                                 calibration_eta=None,\n",
              "                                 calibration_max_trials=None,\n",
              "                                 calibration_rate=None,\n",
              "                                 calibration_samples=None, delta=None,\n",
              "                                 epsilon=None, error_sensitive=None, gamma=None,\n",
              "                                 keep_...\n",
              "                                        'c2': <scipy.stats._distn_infrastructure.rv_frozen object at 0x7f07cf9b3990>},\n",
              "                   pre_dispatch='2*n_jobs', random_state=None, refit=True,\n",
              "                   return_train_score=False,\n",
              "                   scoring=make_scorer(flat_f1_score, average=weighted, labels=['B-art', 'B-eve', 'B-geo', 'B-gpe', 'B-nat', 'B-org', 'B-per', 'B-tim', 'I-art', 'I-eve', 'I-geo', 'I-gpe', 'I-nat', 'I-org', 'I-per', 'I-tim']),\n",
              "                   verbose=1)"
            ]
          },
          "metadata": {},
          "execution_count": 18
        }
      ]
    },
    {
      "cell_type": "code",
      "metadata": {
        "colab": {
          "base_uri": "https://localhost:8080/"
        },
        "id": "Olv56R-D1QDD",
        "outputId": "2020bfcd-b3da-44ed-af3d-5c0152650a74"
      },
      "source": [
        "print('best params:', rs.best_params_)\n",
        "print('best CV score:', rs.best_score_)\n",
        "print('model size: {:0.2f}M'.format(rs.best_estimator_.size_ / 1000000))"
      ],
      "execution_count": 19,
      "outputs": [
        {
          "output_type": "stream",
          "name": "stdout",
          "text": [
            "best params: {'c1': 0.13446603940798765, 'c2': 0.12843768723406732}\n",
            "best CV score: 0.7720464795148895\n",
            "model size: 0.68M\n"
          ]
        }
      ]
    },
    {
      "cell_type": "code",
      "metadata": {
        "colab": {
          "base_uri": "https://localhost:8080/"
        },
        "id": "a8NXYs8j1Tbu",
        "outputId": "c75079b4-9c89-4dfe-c63f-46616413cff9"
      },
      "source": [
        "crf = rs.best_estimator_\n",
        "y_pred = crf.predict(X_test)\n",
        "print(metrics.flat_classification_report(y_test, y_pred, labels=new_classes))"
      ],
      "execution_count": 20,
      "outputs": [
        {
          "output_type": "stream",
          "name": "stdout",
          "text": [
            "              precision    recall  f1-score   support\n",
            "\n",
            "       B-art       1.00      0.03      0.07        29\n",
            "       B-eve       1.00      0.25      0.40        24\n",
            "       B-geo       0.75      0.88      0.81      1043\n",
            "       B-gpe       0.90      0.78      0.83       588\n",
            "       B-nat       0.67      0.20      0.31        10\n",
            "       B-org       0.75      0.63      0.69       649\n",
            "       B-per       0.81      0.81      0.81       546\n",
            "       B-tim       0.90      0.85      0.87       589\n",
            "       I-art       0.00      0.00      0.00         7\n",
            "       I-eve       1.00      0.22      0.36        18\n",
            "       I-geo       0.70      0.70      0.70       204\n",
            "       I-gpe       0.47      0.53      0.50        17\n",
            "       I-nat       1.00      0.50      0.67         2\n",
            "       I-org       0.79      0.73      0.76       545\n",
            "       I-per       0.80      0.91      0.85       574\n",
            "       I-tim       0.79      0.68      0.73       185\n",
            "\n",
            "   micro avg       0.80      0.78      0.79      5030\n",
            "   macro avg       0.77      0.54      0.58      5030\n",
            "weighted avg       0.80      0.78      0.78      5030\n",
            "\n"
          ]
        },
        {
          "output_type": "stream",
          "name": "stderr",
          "text": [
            "/usr/local/lib/python3.7/dist-packages/sklearn/metrics/_classification.py:1272: UndefinedMetricWarning: Precision and F-score are ill-defined and being set to 0.0 in labels with no predicted samples. Use `zero_division` parameter to control this behavior.\n",
            "  _warn_prf(average, modifier, msg_start, len(result))\n"
          ]
        }
      ]
    },
    {
      "cell_type": "code",
      "metadata": {
        "colab": {
          "base_uri": "https://localhost:8080/"
        },
        "id": "Xr8a-hMt1kxg",
        "outputId": "890c1d21-91a8-40ff-cf64-238c6d1b43a2"
      },
      "source": [
        "from collections import Counter\n",
        "\n",
        "def print_transitions(trans_features):\n",
        "    for (label_from, label_to), weight in trans_features:\n",
        "        print(\"%-6s -> %-7s %0.6f\" % (label_from, label_to, weight))\n",
        "\n",
        "print(\"Top likely transitions:\")\n",
        "print_transitions(Counter(crf.transition_features_).most_common(20))\n",
        "\n",
        "print(\"\\nTop unlikely transitions:\")\n",
        "print_transitions(Counter(crf.transition_features_).most_common()[-20:])"
      ],
      "execution_count": 21,
      "outputs": [
        {
          "output_type": "stream",
          "name": "stdout",
          "text": [
            "Top likely transitions:\n",
            "B-art  -> I-art   5.386261\n",
            "B-eve  -> I-eve   5.229266\n",
            "B-geo  -> I-geo   5.163942\n",
            "I-art  -> I-art   5.104881\n",
            "I-tim  -> I-tim   5.073512\n",
            "B-tim  -> I-tim   5.045360\n",
            "B-org  -> I-org   4.739938\n",
            "I-eve  -> I-eve   4.703185\n",
            "B-per  -> I-per   4.676259\n",
            "B-gpe  -> I-gpe   4.643811\n",
            "I-geo  -> I-geo   4.598314\n",
            "I-org  -> I-org   4.566192\n",
            "I-gpe  -> I-gpe   4.468545\n",
            "I-per  -> I-per   4.382969\n",
            "O      -> O       3.652060\n",
            "B-nat  -> I-nat   3.465970\n",
            "O      -> B-per   2.290387\n",
            "B-org  -> B-art   2.147724\n",
            "I-nat  -> I-nat   1.961843\n",
            "B-geo  -> B-tim   1.479746\n",
            "\n",
            "Top unlikely transitions:\n",
            "O      -> I-eve   -1.607829\n",
            "I-per  -> I-org   -1.680955\n",
            "B-geo  -> I-per   -1.734666\n",
            "B-org  -> I-geo   -1.773505\n",
            "B-gpe  -> I-org   -1.893116\n",
            "B-gpe  -> I-geo   -2.010748\n",
            "B-org  -> B-org   -2.024459\n",
            "B-geo  -> I-org   -2.026495\n",
            "I-org  -> I-per   -2.043854\n",
            "I-org  -> B-org   -2.044851\n",
            "B-tim  -> B-tim   -2.105774\n",
            "O      -> I-art   -2.140792\n",
            "B-org  -> I-per   -2.211072\n",
            "O      -> I-per   -2.703114\n",
            "I-per  -> B-per   -2.853755\n",
            "B-gpe  -> B-gpe   -3.244426\n",
            "O      -> I-tim   -3.834969\n",
            "B-per  -> B-per   -4.057263\n",
            "O      -> I-geo   -4.133201\n",
            "O      -> I-org   -4.148670\n"
          ]
        }
      ]
    },
    {
      "cell_type": "code",
      "metadata": {
        "colab": {
          "base_uri": "https://localhost:8080/"
        },
        "id": "rhdMsx_i1nUc",
        "outputId": "2facd7b8-4c77-420c-e89b-29522e2a9cdb"
      },
      "source": [
        "def print_state_features(state_features):\n",
        "    for (attr, label), weight in state_features:\n",
        "        print(\"%0.6f %-8s %s\" % (weight, label, attr))\n",
        "\n",
        "print(\"Top positive:\")\n",
        "print_state_features(Counter(crf.state_features_).most_common(30))\n",
        "\n",
        "print(\"\\nTop negative:\")\n",
        "print_state_features(Counter(crf.state_features_).most_common()[-30:])"
      ],
      "execution_count": 22,
      "outputs": [
        {
          "output_type": "stream",
          "name": "stdout",
          "text": [
            "Top positive:\n",
            "5.312535 B-tim    word[-3:]:day\n",
            "4.828403 O        BOS\n",
            "4.243248 O        bias\n",
            "4.153077 I-tim    word[-3:]:day\n",
            "3.883504 O        word.lower():jewish\n",
            "3.443814 O        word.lower():kurdish\n",
            "3.379215 B-per    word.lower():president\n",
            "3.271575 B-org    word.lower():al-qaida\n",
            "3.254102 O        word[-2:]:N1\n",
            "3.185430 B-org    word.lower():hamas\n",
            "3.176287 B-tim    word[-2:]:0s\n",
            "3.159865 B-gpe    word.istitle()\n",
            "3.128155 B-tim    word[-2:]:ay\n",
            "3.080703 B-per    BOS\n",
            "3.057693 B-tim    word.lower():afternoon\n",
            "3.056278 B-org    word.lower():parliament\n",
            "3.035654 B-tim    word.lower():thanksgiving\n",
            "3.030752 O        -1:word.lower():prime\n",
            "3.015129 B-tim    word[-3:]:ber\n",
            "3.000127 B-tim    +1:word.lower():year\n",
            "2.966545 B-gpe    word.lower():nepal\n",
            "2.946598 B-gpe    word[-3:]:pal\n",
            "2.887006 B-org    word[-3:]:ban\n",
            "2.870954 B-per    word.lower():obama\n",
            "2.806139 B-gpe    postag:NNS\n",
            "2.798941 B-per    word.lower():prime\n",
            "2.781699 B-geo    word[-3:]:the\n",
            "2.741182 B-per    word.lower():gotovina\n",
            "2.735894 B-tim    word.lower():midnight\n",
            "2.723898 I-geo    +1:word.lower():town\n",
            "\n",
            "Top negative:\n",
            "-1.775448 O        +1:word.lower():moscow\n",
            "-1.872919 O        word[-3:]:ans\n",
            "-1.880136 O        +1:word.lower():hours\n",
            "-1.921148 O        word[-3:]:oon\n",
            "-1.932384 O        word.lower():another\n",
            "-1.952662 O        -1:word.lower():doubled\n",
            "-2.035077 O        -1:word.lower():brunei\n",
            "-2.035338 O        +1:word.lower():monday\n",
            "-2.042760 O        word.isupper()\n",
            "-2.070117 O        word.lower():anniversary\n",
            "-2.083350 O        word[-2:]:li\n",
            "-2.093649 O        +1:word.lower():influence\n",
            "-2.126604 O        +1:word.lower():czech\n",
            "-2.127565 O        word.lower():prime\n",
            "-2.153475 O        +1:word.lower():weeks\n",
            "-2.183039 O        -1:word.lower():extremist\n",
            "-2.195174 O        word.lower():decade\n",
            "-2.292134 O        word.lower():evening\n",
            "-2.345500 O        word.lower():later\n",
            "-2.466126 O        +1:word.lower():months\n",
            "-2.495848 B-geo    -1:word.lower():recognize\n",
            "-2.548624 O        +1:word.lower():mr.\n",
            "-2.610547 O        word.isdigit()\n",
            "-2.643207 O        +1:word.lower():year\n",
            "-2.753923 O        word.lower():morning\n",
            "-2.868516 O        +1:word.lower():years\n",
            "-3.070029 O        +1:word.lower():last\n",
            "-3.200606 O        word.istitle()\n",
            "-4.221435 O        postag:NNP\n",
            "-4.315740 O        word[-2:]:0s\n"
          ]
        }
      ]
    },
    {
      "cell_type": "code",
      "metadata": {
        "id": "wvD4gW7CxyuZ"
      },
      "source": [
        ""
      ],
      "execution_count": null,
      "outputs": []
    }
  ]
}